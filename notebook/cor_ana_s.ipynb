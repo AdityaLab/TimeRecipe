{
 "cells": [
  {
   "cell_type": "code",
   "execution_count": 1,
   "metadata": {},
   "outputs": [],
   "source": [
    "import pandas as pd\n",
    "import seaborn as sns\n",
    "import matplotlib.pyplot as plt\n",
    "import statsmodels.formula.api as smf\n",
    "from patsy import dmatrices"
   ]
  },
  {
   "cell_type": "code",
   "execution_count": 2,
   "metadata": {},
   "outputs": [],
   "source": [
    "data_properties = ['hlr', 'Transition', 'Shifting', 'Seasonality', 'Trend', 'Stationarity']\n",
    "configurations = ['norm', 'sd', 'fusion', 'embed', 'ff']\n",
    "target = 'rank'"
   ]
  },
  {
   "cell_type": "code",
   "execution_count": 3,
   "metadata": {},
   "outputs": [],
   "source": [
    "df = pd.read_csv(\"res_s_processed.csv\")"
   ]
  },
  {
   "cell_type": "code",
   "execution_count": 4,
   "metadata": {},
   "outputs": [
    {
     "data": {
      "text/plain": [
       "Index(['dataset', 'hlr', 'Transition', 'Shifting', 'Seasonality', 'Trend',\n",
       "       'Stationarity', 'norm', 'sd', 'fusion', 'embed', 'ff', 'rank'],\n",
       "      dtype='object')"
      ]
     },
     "execution_count": 4,
     "metadata": {},
     "output_type": "execute_result"
    }
   ],
   "source": [
    "df.keys()"
   ]
  },
  {
   "cell_type": "code",
   "execution_count": 5,
   "metadata": {},
   "outputs": [
    {
     "name": "stdout",
     "output_type": "stream",
     "text": [
      "|--- cat__embed_patch <= 0.50\n",
      "|   |--- cat__ff_mlp <= 0.50\n",
      "|   |   |--- cat__embed_invert <= 0.50\n",
      "|   |   |   |--- value: [18.00]\n",
      "|   |   |--- cat__embed_invert >  0.50\n",
      "|   |   |   |--- value: [16.09]\n",
      "|   |--- cat__ff_mlp >  0.50\n",
      "|   |   |--- remainder__norm <= 0.50\n",
      "|   |   |   |--- value: [13.29]\n",
      "|   |   |--- remainder__norm >  0.50\n",
      "|   |   |   |--- value: [16.05]\n",
      "|--- cat__embed_patch >  0.50\n",
      "|   |--- cat__fusion_temporal <= 0.50\n",
      "|   |   |--- remainder__Stationarity <= 0.00\n",
      "|   |   |   |--- value: [8.09]\n",
      "|   |   |--- remainder__Stationarity >  0.00\n",
      "|   |   |   |--- value: [14.06]\n",
      "|   |--- cat__fusion_temporal >  0.50\n",
      "|   |   |--- remainder__norm <= 0.50\n",
      "|   |   |   |--- value: [21.19]\n",
      "|   |   |--- remainder__norm >  0.50\n",
      "|   |   |   |--- value: [13.49]\n",
      "\n"
     ]
    }
   ],
   "source": [
    "from sklearn.tree import DecisionTreeRegressor, export_text\n",
    "from sklearn.preprocessing import OneHotEncoder\n",
    "from sklearn.compose import ColumnTransformer\n",
    "from sklearn.pipeline import Pipeline\n",
    "\n",
    "X = df[data_properties + configurations]\n",
    "y = df['rank']\n",
    "\n",
    "# One-hot encode the categorical config features\n",
    "preprocessor = ColumnTransformer(transformers=[\n",
    "    ('cat', OneHotEncoder(drop=None), ['fusion', 'embed', 'ff'])\n",
    "], remainder='passthrough')\n",
    "\n",
    "model = Pipeline(steps=[\n",
    "    ('preprocessor', preprocessor),\n",
    "    ('tree', DecisionTreeRegressor(max_depth=3))\n",
    "])\n",
    "\n",
    "model.fit(X, y)\n",
    "\n",
    "# Extract rules\n",
    "tree = model.named_steps['tree']\n",
    "feature_names = model.named_steps['preprocessor'].get_feature_names_out(data_properties + configurations)\n",
    "rules = export_text(tree, feature_names=list(feature_names))\n",
    "print(rules)\n"
   ]
  },
  {
   "cell_type": "code",
   "execution_count": 6,
   "metadata": {},
   "outputs": [
    {
     "name": "stdout",
     "output_type": "stream",
     "text": [
      "When hlr is higher, best to use C(Q('fusion'))[T.temporal] to improve rank (p=0.022, coef=-0.411)\n",
      "When Transition is higher, best to use Q('sd')[T.True] to improve rank (p=0.000, coef=-34.721)\n",
      "When Shifting is higher, best to use Q('sd')[T.True] to improve rank (p=0.000, coef=-5.152)\n",
      "When Shifting is higher, best to use C(Q('fusion'))[T.temporal] to improve rank (p=0.011, coef=-3.016)\n",
      "When Seasonality is lower, best to use C(Q('fusion'))[T.temporal] to improve rank (p=0.008, coef=6.117)\n",
      "When Seasonality is higher, best to use C(Q('ff'))[T.trans] to improve rank (p=0.000, coef=-12.388)\n",
      "When Trend is higher, best to use Q('sd')[T.True] to improve rank (p=0.000, coef=-5.884)\n",
      "When Trend is higher, best to use C(Q('fusion'))[T.temporal] to improve rank (p=0.000, coef=-3.826)\n",
      "When Trend is higher, best to use C(Q('embed'))[T.none] to improve rank (p=0.044, coef=-4.635)\n",
      "When Stationarity is higher, best to use Q('sd')[T.True] to improve rank (p=0.002, coef=-5.103)\n"
     ]
    }
   ],
   "source": [
    "import pandas as pd\n",
    "import statsmodels.formula.api as smf\n",
    "\n",
    "# Define properties and configuration features\n",
    "data_properties = ['hlr', 'Transition', 'Shifting', 'Seasonality', 'Trend', 'Stationarity']\n",
    "binary_features = ['norm', 'sd']\n",
    "categorical_features = ['fusion', 'embed', 'ff']\n",
    "target = 'rank'\n",
    "\n",
    "# Store results\n",
    "final_notes = []\n",
    "\n",
    "# Loop over each data property\n",
    "for prop in data_properties:\n",
    "    # For each config feature\n",
    "    for config in binary_features + categorical_features:\n",
    "        # Create appropriate formula\n",
    "        if config in categorical_features:\n",
    "            formula = f\"{target} ~ Q('{prop}') * C(Q('{config}'))\"\n",
    "        else:\n",
    "            formula = f\"{target} ~ Q('{prop}') * Q('{config}')\"\n",
    "\n",
    "        # Fit OLS model\n",
    "        model = smf.ols(formula=formula, data=df).fit()\n",
    "\n",
    "        # Track best improving config for both 'higher' and 'lower' cases\n",
    "        best_effects = {\n",
    "            \"higher\": {'abs_coef': 0, 'note': None},\n",
    "            \"lower\": {'abs_coef': 0, 'note': None}\n",
    "        }\n",
    "\n",
    "        for term in model.params.index:\n",
    "            if ':' in term and model.pvalues[term] <= 0.05:\n",
    "                coef = model.params[term]\n",
    "                pval = model.pvalues[term]\n",
    "\n",
    "                # Determine direction and interpretation\n",
    "                if coef < 0:\n",
    "                    # Rank improves as config interacts negatively with higher prop\n",
    "                    direction = \"higher\"\n",
    "                    performance = \"improve\"\n",
    "                else:\n",
    "                    # Rank improves as config interacts negatively with lower prop\n",
    "                    direction = \"lower\"\n",
    "                    performance = \"improve\"\n",
    "\n",
    "                # Check if this is the strongest (abs) improving effect for this direction\n",
    "                if abs(coef) > best_effects[direction]['abs_coef']:\n",
    "                    best_effects[direction] = {\n",
    "                        'abs_coef': abs(coef),\n",
    "                        'note': (\n",
    "                            f\"When {prop} is {direction}, best to use {term.split(':')[1]} \"\n",
    "                            f\"to {performance} rank (p={pval:.3f}, coef={coef:.3f})\"\n",
    "                        )\n",
    "                    }\n",
    "\n",
    "        # Store notes for both directions if they exist\n",
    "        for dir_effect in best_effects.values():\n",
    "            if dir_effect['note']:\n",
    "                final_notes.append(dir_effect['note'])\n",
    "\n",
    "# Output to console and file\n",
    "with open(\"best_config_by_property_s.txt\", \"w\") as f:\n",
    "    for note in final_notes:\n",
    "        print(note)\n",
    "        f.write(note + '\\n')\n"
   ]
  },
  {
   "cell_type": "code",
   "execution_count": null,
   "metadata": {},
   "outputs": [],
   "source": []
  }
 ],
 "metadata": {
  "language_info": {
   "name": "python"
  }
 },
 "nbformat": 4,
 "nbformat_minor": 2
}
